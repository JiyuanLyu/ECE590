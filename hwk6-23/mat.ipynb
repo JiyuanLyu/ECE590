{
 "cells": [
  {
   "cell_type": "code",
   "execution_count": 1,
   "source": [
    "def matrix_chain_order_recursive(matrices, i, j):\n",
    "    if i == j:\n",
    "        return 0\n",
    "\n",
    "    min_operations = float('inf')\n",
    "\n",
    "    for k in range(i, j):\n",
    "        cost = matrix_chain_order_recursive(matrices, i, k) + matrix_chain_order_recursive(matrices, k + 1, j) + matrices[i-1][1] * matrices[k][2] * matrices[j][2]\n",
    "        min_operations = min(min_operations, cost)\n",
    "\n",
    "    return min_operations\n",
    "\n",
    "def main():\n",
    "    matrices = [(\"A\", 7, 3), (\"B\", 3, 5), (\"C\", 5, 4)]\n",
    "\n",
    "    result = matrix_chain_order_recursive(matrices, 1, len(matrices) - 1)\n",
    "    print(result)\n",
    "\n",
    "if __name__ == \"__main__\":\n",
    "    main()\n",
    ""
   ],
   "outputs": [
    {
     "output_type": "stream",
     "name": "stdout",
     "text": [
      "140\n"
     ]
    }
   ],
   "metadata": {}
  },
  {
   "cell_type": "code",
   "execution_count": 2,
   "source": [
    "def matrix_chain_order_recursive(matrices, i, j, memo):\n",
    "    if i == j:\n",
    "        return 0\n",
    "\n",
    "    if (i, j) in memo:\n",
    "        return memo[(i, j)]\n",
    "\n",
    "    min_operations = float('inf')\n",
    "\n",
    "    for k in range(i, j):\n",
    "        cost = matrix_chain_order_recursive(matrices, i, k, memo) + matrix_chain_order_recursive(matrices, k + 1, j, memo) + matrices[i-1][1] * matrices[k][2] * matrices[j][2]\n",
    "        min_operations = min(min_operations, cost)\n",
    "\n",
    "    memo[(i, j)] = min_operations\n",
    "    return min_operations\n",
    "\n",
    "def main():\n",
    "    matrices = [(\"A\", 7, 3), (\"B\", 3, 5), (\"C\", 5, 4)]\n",
    "    memo = {}\n",
    "\n",
    "    result = matrix_chain_order_recursive(matrices, 1, len(matrices) - 1, memo)\n",
    "    print(result)\n",
    "\n",
    "if __name__ == \"__main__\":\n",
    "    main()\n",
    ""
   ],
   "outputs": [
    {
     "output_type": "stream",
     "name": "stdout",
     "text": [
      "140\n"
     ]
    }
   ],
   "metadata": {}
  },
  {
   "cell_type": "code",
   "execution_count": 3,
   "source": [
    "def matrix_mul(a, b, count):\n",
    "    # Write me\n",
    "\n",
    "    # let A * B = C\n",
    "    c = []\n",
    "    # For all rows in a\n",
    "    for i in range(len(a)):\n",
    "        # multiply with the columns in b\n",
    "        row = []\n",
    "        for j in range(len(b[0])):\n",
    "            element = 0\n",
    "            # add all the multiplications\n",
    "            for k in range(len(b)):\n",
    "                element += a[i][k] * b[k][j]\n",
    "                count += 1\n",
    "            # append this element to the row\n",
    "            row.append(element)\n",
    "        # append this row to the c matrix\n",
    "        c.append(row)\n",
    "    return c, count \n",
    "\n",
    "def findOpe(A, B, C):\n",
    "    \n",
    "    # there are only two ways of operation\n",
    "    \n",
    "    # first find（A * B）* C\n",
    "    ab, count1 = matrix_mul(A, B, 0)\n",
    "    abc1, count1 = matrix_mul(ab, C, count1)\n",
    "    \n",
    "    # then find A * (B * C)\n",
    "    bc, count2 = matrix_mul(B, C, 0)\n",
    "    abc2, count2 = matrix_mul(A, bc, count2)\n",
    "    \n",
    "    if count1 > count2:\n",
    "        t1= ('A', 'B')\n",
    "        t2= (t1, 'C')\n",
    "        return t2, count1\n",
    "    else: \n",
    "        t1= ('B', 'C')\n",
    "        t2= ('A', t1)\n",
    "        return t2, count2"
   ],
   "outputs": [],
   "metadata": {}
  },
  {
   "cell_type": "code",
   "execution_count": 5,
   "source": [
    "# get Matrix\n",
    "def getMatrix(row, column):\n",
    "    ans = []\n",
    "    for i in range(int(row)):\n",
    "        temp = []\n",
    "        for j in range(int(column)):\n",
    "            temp.append(random.randrange(0, 1000))\n",
    "        ans.append(temp)\n",
    "    return ans\n",
    "a = getMatrix(7, 3)\n",
    "b = getMatrix(3, 5)\n",
    "c = getMatrix(5, 4)\n",
    ""
   ],
   "outputs": [
    {
     "output_type": "error",
     "ename": "NameError",
     "evalue": "name 'random' is not defined",
     "traceback": [
      "\u001b[0;31m---------------------------------------------------------------------------\u001b[0m",
      "\u001b[0;31mNameError\u001b[0m                                 Traceback (most recent call last)",
      "Cell \u001b[0;32mIn[5], line 10\u001b[0m\n\u001b[1;32m      8\u001b[0m         ans\u001b[39m.\u001b[39mappend(temp)\n\u001b[1;32m      9\u001b[0m     \u001b[39mreturn\u001b[39;00m ans\n\u001b[0;32m---> 10\u001b[0m a \u001b[39m=\u001b[39m getMatrix(\u001b[39m7\u001b[39;49m, \u001b[39m3\u001b[39;49m)\n\u001b[1;32m     11\u001b[0m b \u001b[39m=\u001b[39m getMatrix(\u001b[39m3\u001b[39m, \u001b[39m5\u001b[39m)\n\u001b[1;32m     12\u001b[0m c \u001b[39m=\u001b[39m getMatrix(\u001b[39m5\u001b[39m, \u001b[39m4\u001b[39m)\n",
      "Cell \u001b[0;32mIn[5], line 7\u001b[0m, in \u001b[0;36mgetMatrix\u001b[0;34m(row, column)\u001b[0m\n\u001b[1;32m      5\u001b[0m     temp \u001b[39m=\u001b[39m []\n\u001b[1;32m      6\u001b[0m     \u001b[39mfor\u001b[39;00m j \u001b[39min\u001b[39;00m \u001b[39mrange\u001b[39m(\u001b[39mint\u001b[39m(column)):\n\u001b[0;32m----> 7\u001b[0m         temp\u001b[39m.\u001b[39mappend(random\u001b[39m.\u001b[39mrandrange(\u001b[39m0\u001b[39m, \u001b[39m1000\u001b[39m))\n\u001b[1;32m      8\u001b[0m     ans\u001b[39m.\u001b[39mappend(temp)\n\u001b[1;32m      9\u001b[0m \u001b[39mreturn\u001b[39;00m ans\n",
      "\u001b[0;31mNameError\u001b[0m: name 'random' is not defined"
     ]
    }
   ],
   "metadata": {}
  },
  {
   "cell_type": "code",
   "execution_count": 6,
   "source": [
    "import random\n",
    "# get Matrix\n",
    "def getMatrix(row, column):\n",
    "    ans = []\n",
    "    for i in range(int(row)):\n",
    "        temp = []\n",
    "        for j in range(int(column)):\n",
    "            temp.append(random.randrange(0, 1000))\n",
    "        ans.append(temp)\n",
    "    return ans\n",
    "a = getMatrix(7, 3)\n",
    "b = getMatrix(3, 5)\n",
    "c = getMatrix(5, 4)\n",
    ""
   ],
   "outputs": [],
   "metadata": {}
  },
  {
   "cell_type": "code",
   "execution_count": 7,
   "source": [
    "t, count = findOpe(a, b, c)"
   ],
   "outputs": [],
   "metadata": {}
  },
  {
   "cell_type": "code",
   "execution_count": 8,
   "source": [
    "print(t)\n",
    "print(count)"
   ],
   "outputs": [
    {
     "output_type": "stream",
     "name": "stdout",
     "text": [
      "(('A', 'B'), 'C')\n",
      "245\n"
     ]
    }
   ],
   "metadata": {}
  },
  {
   "cell_type": "code",
   "execution_count": 9,
   "source": [
    "def matrix_mul(a, b, count):\n",
    "    # Write me\n",
    "\n",
    "    # let A * B = C\n",
    "    c = []\n",
    "    # For all rows in a\n",
    "    for i in range(len(a)):\n",
    "        # multiply with the columns in b\n",
    "        row = []\n",
    "        for j in range(len(b[0])):\n",
    "            element = 0\n",
    "            # add all the multiplications\n",
    "            for k in range(len(b)):\n",
    "                element += a[i][k] * b[k][j]\n",
    "                count += 1\n",
    "            # append this element to the row\n",
    "            row.append(element)\n",
    "        # append this row to the c matrix\n",
    "        c.append(row)\n",
    "    return c, count \n",
    "\n",
    "def findOpe(A, B, C):\n",
    "    \n",
    "    # there are only two ways of operation\n",
    "    \n",
    "    # first find（A * B）* C\n",
    "    ab, count1 = matrix_mul(A, B, 0)\n",
    "    abc1, count1 = matrix_mul(ab, C, count1)\n",
    "    \n",
    "    # then find A * (B * C)\n",
    "    bc, count2 = matrix_mul(B, C, 0)\n",
    "    abc2, count2 = matrix_mul(A, bc, count2)\n",
    "    \n",
    "    if count1 < count2:\n",
    "        t1= ('A', 'B')\n",
    "        t2= (t1, 'C')\n",
    "        return t2, count1\n",
    "    else: \n",
    "        t1= ('B', 'C')\n",
    "        t2= ('A', t1)\n",
    "        return t2, count2"
   ],
   "outputs": [],
   "metadata": {}
  },
  {
   "cell_type": "code",
   "execution_count": 10,
   "source": [
    "t, count = findOpe(a, b, c)"
   ],
   "outputs": [],
   "metadata": {}
  },
  {
   "cell_type": "code",
   "execution_count": 11,
   "source": [
    "print(t)\n",
    "print(count)"
   ],
   "outputs": [
    {
     "output_type": "stream",
     "name": "stdout",
     "text": [
      "('A', ('B', 'C'))\n",
      "144\n"
     ]
    }
   ],
   "metadata": {}
  },
  {
   "cell_type": "code",
   "execution_count": 12,
   "source": [
    "def matrix_chain_order(matrices, i, j):\n",
    "    if i == j:\n",
    "        return 0\n",
    "\n",
    "    min_operations = float('inf')\n",
    "    for k in range(i, j):\n",
    "        current_ops = matrix_chain_order(matrices, i, k) + matrix_chain_order(matrices, k + 1, j) + matrices[i][1] * matrices[k][2] * matrices[j][2]\n",
    "        min_operations = min(min_operations, current_ops)\n",
    "\n",
    "    return min_operations"
   ],
   "outputs": [],
   "metadata": {}
  },
  {
   "cell_type": "code",
   "execution_count": 13,
   "source": [
    "matrices = [(\"A\", 7, 3), (\"B\", 3, 5), (\"C\", 5, 4)]\n",
    "print(matrix_chain_order(matrices))"
   ],
   "outputs": [
    {
     "output_type": "error",
     "ename": "TypeError",
     "evalue": "matrix_chain_order() missing 2 required positional arguments: 'i' and 'j'",
     "traceback": [
      "\u001b[0;31m---------------------------------------------------------------------------\u001b[0m",
      "\u001b[0;31mTypeError\u001b[0m                                 Traceback (most recent call last)",
      "Cell \u001b[0;32mIn[13], line 2\u001b[0m\n\u001b[1;32m      1\u001b[0m matrices \u001b[39m=\u001b[39m [(\u001b[39m\"\u001b[39m\u001b[39mA\u001b[39m\u001b[39m\"\u001b[39m, \u001b[39m7\u001b[39m, \u001b[39m3\u001b[39m), (\u001b[39m\"\u001b[39m\u001b[39mB\u001b[39m\u001b[39m\"\u001b[39m, \u001b[39m3\u001b[39m, \u001b[39m5\u001b[39m), (\u001b[39m\"\u001b[39m\u001b[39mC\u001b[39m\u001b[39m\"\u001b[39m, \u001b[39m5\u001b[39m, \u001b[39m4\u001b[39m)]\n\u001b[0;32m----> 2\u001b[0m \u001b[39mprint\u001b[39m(matrix_chain_order(matrices))\n",
      "\u001b[0;31mTypeError\u001b[0m: matrix_chain_order() missing 2 required positional arguments: 'i' and 'j'"
     ]
    }
   ],
   "metadata": {}
  },
  {
   "cell_type": "code",
   "execution_count": 14,
   "source": [
    "import sys\n",
    "import time\n",
    "\n",
    "def matrix_chain_order(matrices, i, j):\n",
    "    if i == j:\n",
    "        return 0\n",
    "\n",
    "    min_operations = float('inf')\n",
    "    for k in range(i, j):\n",
    "        current_ops = matrix_chain_order(matrices, i, k) + matrix_chain_order(matrices, k + 1, j) + matrices[i][1] * matrices[k][2] * matrices[j][2]\n",
    "        min_operations = min(min_operations, current_ops)\n",
    "\n",
    "    return min_operations\n",
    ""
   ],
   "outputs": [],
   "metadata": {}
  },
  {
   "cell_type": "code",
   "execution_count": 15,
   "source": [
    "matrices = [(\"A\", 7, 3), (\"B\", 3, 5), (\"C\", 5, 4)]\n",
    "result = matrix_chain_order(matrices, 0, len(matrices) - 1)\n",
    "print(result)\n",
    ""
   ],
   "outputs": [
    {
     "output_type": "stream",
     "name": "stdout",
     "text": [
      "144\n"
     ]
    }
   ],
   "metadata": {}
  },
  {
   "cell_type": "code",
   "execution_count": 16,
   "source": [
    "matrices = [(\"A\", 40, 20), (\"B\", 20, 30), (\"C\", 30, 10), (\"D\", 10, 30)]\n",
    "result = matrix_chain_order(matrices, 0, len(matrices) - 1)\n",
    "print(result)\n",
    ""
   ],
   "outputs": [
    {
     "output_type": "stream",
     "name": "stdout",
     "text": [
      "26000\n"
     ]
    }
   ],
   "metadata": {}
  },
  {
   "cell_type": "code",
   "execution_count": 17,
   "source": [
    "matrices = [(\"A\", 15, 11), (\"B\", 11, 18), (\"C\", 18, 17), (\"D\", 17, 15), (\"D\", 15, 13)]\n",
    "result = matrix_chain_order(matrices, 0, len(matrices) - 1)\n",
    "print(result)"
   ],
   "outputs": [
    {
     "output_type": "stream",
     "name": "stdout",
     "text": [
      "10461\n"
     ]
    }
   ],
   "metadata": {}
  },
  {
   "cell_type": "code",
   "execution_count": 18,
   "source": [
    "matrices = [(\"A\", 15, 11), (\"B\", 11, 18), (\"C\", 18, 17), (\"D\", 17, 15), (\"D\", 15, 13)]\n",
    "result = matrix_chain_order(matrices, 0, len(matrices) - 1)\n",
    "print(result)"
   ],
   "outputs": [
    {
     "output_type": "stream",
     "name": "stdout",
     "text": [
      "10461\n"
     ]
    }
   ],
   "metadata": {}
  },
  {
   "cell_type": "code",
   "execution_count": 19,
   "source": [
    "import sys\n",
    "import time\n",
    "\n",
    "def matrix_chain_order(matrices, i, j):\n",
    "    if i == j:\n",
    "        return 0, matrices[i][0]\n",
    "\n",
    "    min_operations = float('inf')\n",
    "    best_order = None\n",
    "\n",
    "    for k in range(i, j):\n",
    "        ops_left, order_left = matrix_chain_order(matrices, i, k)\n",
    "        ops_right, order_right = matrix_chain_order(matrices, k + 1, j)\n",
    "        current_ops = ops_left + ops_right + matrices[i][1] * matrices[k][2] * matrices[j][2]\n",
    "\n",
    "        if current_ops < min_operations:\n",
    "            min_operations = current_ops\n",
    "            best_order = f'({order_left}, {order_right})'\n",
    "\n",
    "    return min_operations, best_order\n",
    ""
   ],
   "outputs": [],
   "metadata": {}
  },
  {
   "cell_type": "code",
   "execution_count": 20,
   "source": [
    "matrices = [(\"A\", 7, 3), (\"B\", 3, 5), (\"C\", 5, 4)]\n",
    "print(matrix_chain_order(matrices))"
   ],
   "outputs": [
    {
     "output_type": "error",
     "ename": "TypeError",
     "evalue": "matrix_chain_order() missing 2 required positional arguments: 'i' and 'j'",
     "traceback": [
      "\u001b[0;31m---------------------------------------------------------------------------\u001b[0m",
      "\u001b[0;31mTypeError\u001b[0m                                 Traceback (most recent call last)",
      "Cell \u001b[0;32mIn[20], line 2\u001b[0m\n\u001b[1;32m      1\u001b[0m matrices \u001b[39m=\u001b[39m [(\u001b[39m\"\u001b[39m\u001b[39mA\u001b[39m\u001b[39m\"\u001b[39m, \u001b[39m7\u001b[39m, \u001b[39m3\u001b[39m), (\u001b[39m\"\u001b[39m\u001b[39mB\u001b[39m\u001b[39m\"\u001b[39m, \u001b[39m3\u001b[39m, \u001b[39m5\u001b[39m), (\u001b[39m\"\u001b[39m\u001b[39mC\u001b[39m\u001b[39m\"\u001b[39m, \u001b[39m5\u001b[39m, \u001b[39m4\u001b[39m)]\n\u001b[0;32m----> 2\u001b[0m \u001b[39mprint\u001b[39m(matrix_chain_order(matrices))\n",
      "\u001b[0;31mTypeError\u001b[0m: matrix_chain_order() missing 2 required positional arguments: 'i' and 'j'"
     ]
    }
   ],
   "metadata": {}
  },
  {
   "cell_type": "code",
   "execution_count": 21,
   "source": [
    "\n",
    "matrices = [(\"A\", 15, 11), (\"B\", 11, 18), (\"C\", 18, 17), (\"D\", 17, 15), (\"D\", 15, 13)]\n",
    "result = matrix_chain_order(matrices, 0, len(matrices) - 1)\n",
    "print(result)"
   ],
   "outputs": [
    {
     "output_type": "stream",
     "name": "stdout",
     "text": [
      "(10461, '(A, (((B, C), D), D))')\n"
     ]
    }
   ],
   "metadata": {}
  },
  {
   "cell_type": "code",
   "execution_count": 22,
   "source": [
    "matrices = [(\"A\", 40, 20), (\"B\", 20, 30), (\"C\", 30, 10), (\"D\", 10, 30)]\n",
    "result = matrix_chain_order(matrices, 0, len(matrices) - 1)\n",
    "print(result)\n",
    ""
   ],
   "outputs": [
    {
     "output_type": "stream",
     "name": "stdout",
     "text": [
      "(26000, '((A, (B, C)), D)')\n"
     ]
    }
   ],
   "metadata": {}
  },
  {
   "cell_type": "code",
   "execution_count": 23,
   "source": [
    "matrices = [(\"A\", 15, 11), (\"B\", 11, 18), (\"C\", 18, 17), (\"D\", 17, 15), (\"E\", 15, 13)]\n",
    "result = matrix_chain_order(matrices, 0, len(matrices) - 1)\n",
    "print(result)"
   ],
   "outputs": [
    {
     "output_type": "stream",
     "name": "stdout",
     "text": [
      "(10461, '(A, (((B, C), D), E))')\n"
     ]
    }
   ],
   "metadata": {}
  },
  {
   "cell_type": "code",
   "execution_count": 24,
   "source": [
    "matrices = [(\"A\", 7, 3), (\"B\", 3, 5), (\"C\", 5, 4)]\n",
    "print(matrix_chain_order(matrices, 0, len(matrices) - 1))"
   ],
   "outputs": [
    {
     "output_type": "stream",
     "name": "stdout",
     "text": [
      "(144, '(A, (B, C))')\n"
     ]
    }
   ],
   "metadata": {}
  },
  {
   "cell_type": "code",
   "execution_count": 25,
   "source": [
    "import sys\n",
    "import time\n",
    "\n",
    "def matrix_chain_order(matrices, i, j):\n",
    "    if i == j:\n",
    "        return 0, matrices[i][0]\n",
    "\n",
    "    min_operations = sys.maxsize\n",
    "    best_order = None\n",
    "\n",
    "    for k in range(i, j):\n",
    "        ops_left, order_left = matrix_chain_order(matrices, i, k)\n",
    "        ops_right, order_right = matrix_chain_order(matrices, k + 1, j)\n",
    "        current_ops = ops_left + ops_right + matrices[i][1] * matrices[k][2] * matrices[j][2]\n",
    "\n",
    "        if current_ops < min_operations:\n",
    "            min_operations = current_ops\n",
    "            best_order = f'({order_left}, {order_right})'\n",
    "\n",
    "    return min_operations, best_order"
   ],
   "outputs": [],
   "metadata": {}
  },
  {
   "cell_type": "code",
   "execution_count": 26,
   "source": [
    "matrices = [(\"A\", 7, 3), (\"B\", 3, 5), (\"C\", 5, 4)]\n",
    "print(matrix_chain_order(matrices, 0, len(matrices) - 1))"
   ],
   "outputs": [
    {
     "output_type": "stream",
     "name": "stdout",
     "text": [
      "(144, '(A, (B, C))')\n"
     ]
    }
   ],
   "metadata": {}
  },
  {
   "cell_type": "code",
   "execution_count": 27,
   "source": [
    "matrices = [(\"A\", 15, 11), (\"B\", 11, 18), (\"C\", 18, 17), (\"D\", 17, 15), (\"E\", 15, 13)]\n",
    "result = matrix_chain_order(matrices, 0, len(matrices) - 1)\n",
    "print(result)"
   ],
   "outputs": [
    {
     "output_type": "stream",
     "name": "stdout",
     "text": [
      "(10461, '(A, (((B, C), D), E))')\n"
     ]
    }
   ],
   "metadata": {}
  },
  {
   "cell_type": "code",
   "execution_count": 28,
   "source": [
    "matrices = [(\"A\", 40, 20), (\"B\", 20, 30), (\"C\", 30, 10), (\"D\", 10, 30)]\n",
    "result = matrix_chain_order(matrices, 0, len(matrices) - 1)\n",
    "print(result)\n",
    ""
   ],
   "outputs": [
    {
     "output_type": "stream",
     "name": "stdout",
     "text": [
      "(26000, '((A, (B, C)), D)')\n"
     ]
    }
   ],
   "metadata": {}
  },
  {
   "cell_type": "code",
   "execution_count": 29,
   "source": [
    "import sys\n",
    "import time\n",
    "import random\n",
    "import matplotlib.pyplot as plt\n",
    "import pandas as pd\n",
    "from functools import cache\n",
    "sys.setrecursionlimit(50000)\n",
    "\n",
    "# Function to read dimensions from a file and generate matrices\n",
    "def readMatrix(filename):\n",
    "    matrices = []\n",
    "    with open(filename, 'r') as file:\n",
    "        for line in file:\n",
    "            name, rows, columns = line.strip().split(',')\n",
    "            matrices.append((name, int(rows), int(columns)))\n",
    "    return tuple(matrices)\n",
    "\n",
    "@cache\n",
    "def findOpe(matrices, i, j):\n",
    "    if i == j:\n",
    "        return 0, matrices[i][0]\n",
    "\n",
    "    minOpe = sys.maxsize\n",
    "    order = None\n",
    "\n",
    "    for k in range(i, j):\n",
    "        ops_left, order_left = findOpe(matrices, i, k)\n",
    "        ops_right, order_right = findOpe(matrices, k + 1, j)\n",
    "        currOpe = ops_left + ops_right + matrices[i][1] * matrices[k][2] * matrices[j][2]\n",
    "\n",
    "        if currOpe < minOpe:\n",
    "            minOpe = currOpe\n",
    "            order = (order_left, order_right)\n",
    "\n",
    "    return minOpe, order\n",
    "\n",
    "\n",
    "def findOpeNCache(matrices, i, j):\n",
    "    if i == j:\n",
    "        return 0, matrices[i][0]\n",
    "\n",
    "    minOpe = sys.maxsize\n",
    "    order = None\n",
    "\n",
    "    for k in range(i, j):\n",
    "        ops_left, order_left = findOpeNCache(matrices, i, k)\n",
    "        ops_right, order_right = findOpeNCache(matrices, k + 1, j)\n",
    "        currOpe = ops_left + ops_right + matrices[i][1] * matrices[k][2] * matrices[j][2]\n",
    "\n",
    "        if currOpe < minOpe:\n",
    "            minOpe = currOpe\n",
    "            order = (order_left, order_right)\n",
    "\n",
    "    return minOpe, order\n",
    "\n",
    "# write a function to get an array of size N\n",
    "def getN(x, y):\n",
    "    tmp = x\n",
    "    ans = [tmp]\n",
    "    \n",
    "    while tmp < y:\n",
    "        tmp = tmp * 2\n",
    "        ans.append(tmp)\n",
    "    \n",
    "    return ans\n",
    "\n",
    "# write a function to get an array of size N\n",
    "def getMatrices(n):\n",
    "    matrices = []\n",
    "    for i in range(n):\n",
    "        name = chr(ord('A') + i)  # Generate matrix names A, B, C, ...\n",
    "        rows = random.randint(1, 100)  # Random number of rows (1 to 10)\n",
    "        cols = random.randint(1, 100)  # Random number of columns (1 to 10)\n",
    "        matrices.append((name, rows, cols))\n",
    "    return tuple(matrices)\n",
    "\n",
    "def getTime(arrN):\n",
    "    timeS = []\n",
    "    for i in range(len(arrN)):\n",
    "        matrices = getMatrices(arrN[i])\n",
    "        timeBeforeS = time.perf_counter_ns()\n",
    "        findOpe(matrices, 0, len(matrices) - 1)\n",
    "        timeS.append(time.perf_counter_ns() - timeBeforeS)\n",
    "    return timeS \n",
    "\n",
    "def getExpResult():\n",
    "    arrN = getN(1, 256)\n",
    "    nocache = []\n",
    "    for i in arrN:\n",
    "        nocache.append(0)\n",
    "    time = getTime(arrN)\n",
    "    \n",
    "    # save plot\n",
    "    plt.figure(figsize=(8, 6))\n",
    "\n",
    "    plt.plot(arrN, time, label='Runtime (with @cache)', color='green')\n",
    "    plt.plot(arrN, nocache, label='Runtime (without @cache)', color='red', linestyle=\"dashed\")\n",
    "    plt.xlabel('N')\n",
    "    plt.ylabel('Runtime (nanoseconds)')\n",
    "    plt.title('mat.py Runtime')\n",
    "    plt.legend()\n",
    "\n",
    "    plt.savefig('q2.png')\n",
    "\n",
    "    fig, ax =plt.subplots(1, 1)\n",
    "\n",
    "    table = pd.DataFrame()\n",
    "    table['With Cache (nanoseconds)'] = time\n",
    "    table['Without Cache (nanoseconds)'] = nocache\n",
    "    ax.axis('tight')\n",
    "    ax.axis('off')\n",
    "\n",
    "    #plotting data\n",
    "    table = ax.table(cellText = table.values,\n",
    "            colLabels = table.columns,\n",
    "            rowLabels = arrN,\n",
    "            loc=\"center\")\n",
    "    table.set_fontsize(14)\n",
    "    table.scale(1,2)\n",
    "    plt.savefig('q2_table.png')\n",
    "    return 0\n",
    "\n",
    "def main():\n",
    "    # filename = sys.argv[1]\n",
    "    # matrices = readMatrix(filename)\n",
    "    # timeB = time.perf_counter_ns()\n",
    "    # minOpe, order = findOpe(matrices, 0, len(matrices) - 1)\n",
    "    # timeA = time.perf_counter_ns() - timeB\n",
    "    # print(order)\n",
    "    # print(minOpe)\n",
    "    # print(timeA)\n",
    "    getExpResult()\n",
    "    \n",
    "\n",
    "if __name__ == \"__main__\":\n",
    "    if len(sys.argv) != 2:\n",
    "        print(\"Input arguments number is wrong!\")\n",
    "        sys.exit(1)\n",
    "    main()"
   ],
   "outputs": [
    {
     "output_type": "display_data",
     "data": {
      "image/png": "[encoded data removed]",
      "text/plain": [
       "<Figure size 800x600 with 1 Axes>"
      ]
     },
     "metadata": {}
    },
    {
     "output_type": "display_data",
     "data": {
      "image/png": "[encoded data removed]",
      "text/plain": [
       "<Figure size 640x480 with 1 Axes>"
      ]
     },
     "metadata": {}
    }
   ],
   "metadata": {}
  },
  {
   "cell_type": "code",
   "execution_count": 30,
   "source": [
    "import sys\n",
    "import time\n",
    "import random\n",
    "import matplotlib.pyplot as plt\n",
    "import pandas as pd\n",
    "from functools import cache\n",
    "sys.setrecursionlimit(50000)\n",
    "\n",
    "# Function to read dimensions from a file and generate matrices\n",
    "def readMatrix(filename):\n",
    "    matrices = []\n",
    "    with open(filename, 'r') as file:\n",
    "        for line in file:\n",
    "            name, rows, columns = line.strip().split(',')\n",
    "            matrices.append((name, int(rows), int(columns)))\n",
    "    return tuple(matrices)\n",
    "\n",
    "@cache\n",
    "def findOpe(matrices, i, j):\n",
    "    if i == j:\n",
    "        return 0, matrices[i][0]\n",
    "\n",
    "    minOpe = sys.maxsize\n",
    "    order = None\n",
    "\n",
    "    for k in range(i, j):\n",
    "        ops_left, order_left = findOpe(matrices, i, k)\n",
    "        ops_right, order_right = findOpe(matrices, k + 1, j)\n",
    "        currOpe = ops_left + ops_right + matrices[i][1] * matrices[k][2] * matrices[j][2]\n",
    "\n",
    "        if currOpe < minOpe:\n",
    "            minOpe = currOpe\n",
    "            order = (order_left, order_right)\n",
    "\n",
    "    return minOpe, order\n",
    "\n",
    "\n",
    "def findOpeNCache(matrices, i, j):\n",
    "    if i == j:\n",
    "        return 0, matrices[i][0]\n",
    "\n",
    "    minOpe = sys.maxsize\n",
    "    order = None\n",
    "\n",
    "    for k in range(i, j):\n",
    "        ops_left, order_left = findOpeNCache(matrices, i, k)\n",
    "        ops_right, order_right = findOpeNCache(matrices, k + 1, j)\n",
    "        currOpe = ops_left + ops_right + matrices[i][1] * matrices[k][2] * matrices[j][2]\n",
    "\n",
    "        if currOpe < minOpe:\n",
    "            minOpe = currOpe\n",
    "            order = (order_left, order_right)\n",
    "\n",
    "    return minOpe, order\n",
    "\n",
    "# write a function to get an array of size N\n",
    "def getN(x, y):\n",
    "    tmp = x\n",
    "    ans = [tmp]\n",
    "    \n",
    "    while tmp < y:\n",
    "        tmp = tmp * 2\n",
    "        ans.append(tmp)\n",
    "    \n",
    "    return ans\n",
    "\n",
    "# write a function to get an array of size N\n",
    "def getMatrices(n):\n",
    "    matrices = []\n",
    "    for i in range(n):\n",
    "        name = chr(ord('A') + i)  # Generate matrix names A, B, C, ...\n",
    "        rows = random.randint(1, 100)  # Random number of rows (1 to 10)\n",
    "        cols = random.randint(1, 100)  # Random number of columns (1 to 10)\n",
    "        matrices.append((name, rows, cols))\n",
    "    return tuple(matrices)\n",
    "\n",
    "def getTime(arrN):\n",
    "    timeS = []\n",
    "    for i in range(len(arrN)):\n",
    "        matrices = getMatrices(arrN[i])\n",
    "        timeBeforeS = time.perf_counter_ns()\n",
    "        findOpe(matrices, 0, len(matrices) - 1)\n",
    "        timeS.append(time.perf_counter_ns() - timeBeforeS)\n",
    "    return timeS\n",
    "\n",
    "def getTimeNCache(arrN):\n",
    "    timeS = []\n",
    "    for i in range(len(arrN)):\n",
    "        matrices = getMatrices(arrN[i])\n",
    "        timeBeforeS = time.perf_counter_ns()\n",
    "        findOpeNCache(matrices, 0, len(matrices) - 1)\n",
    "        timeS.append(time.perf_counter_ns() - timeBeforeS)\n",
    "    return timeS \n",
    "\n",
    "def getExpResult():\n",
    "    arrN = getN(1, 512)\n",
    "    nocache = []\n",
    "    for i in arrN:\n",
    "        nocache.append(0)\n",
    "    noN = [1, 2, 4, 8, 16]\n",
    "    nocache = getTimeNCache(noN)\n",
    "    for i in range(len(arrN) - 5):\n",
    "        nocache.append(0)\n",
    "        \n",
    "        \n",
    "    time = getTime(arrN)\n",
    "    \n",
    "    # save plot\n",
    "    plt.figure(figsize=(8, 6))\n",
    "\n",
    "    plt.plot(arrN, time, label='Runtime (with @cache)', color='green')\n",
    "    plt.plot(arrN, nocache, label='Runtime (without @cache)', color='red', linestyle=\"dashed\")\n",
    "    plt.xlabel('N')\n",
    "    plt.ylabel('Runtime (nanoseconds)')\n",
    "    plt.title('mat.py Runtime')\n",
    "    plt.legend()\n",
    "\n",
    "    plt.savefig('q2.png')\n",
    "\n",
    "    fig, ax =plt.subplots(1, 1)\n",
    "\n",
    "    table = pd.DataFrame()\n",
    "    table['With Cache (nanoseconds)'] = time\n",
    "    table['Without Cache (nanoseconds)'] = nocache\n",
    "    ax.axis('tight')\n",
    "    ax.axis('off')\n",
    "\n",
    "    #plotting data\n",
    "    table = ax.table(cellText = table.values,\n",
    "            colLabels = table.columns,\n",
    "            rowLabels = arrN,\n",
    "            loc=\"center\")\n",
    "    table.set_fontsize(14)\n",
    "    table.scale(1,2)\n",
    "    plt.savefig('q2_table.png')\n",
    "    return 0\n",
    "\n",
    "def main():\n",
    "    # filename = sys.argv[1]\n",
    "    # matrices = readMatrix(filename)\n",
    "    # timeB = time.perf_counter_ns()\n",
    "    # minOpe, order = findOpe(matrices, 0, len(matrices) - 1)\n",
    "    # timeA = time.perf_counter_ns() - timeB\n",
    "    # print(order)\n",
    "    # print(minOpe)\n",
    "    # print(timeA)\n",
    "    getExpResult()\n",
    "    \n",
    "\n",
    "if __name__ == \"__main__\":\n",
    "    if len(sys.argv) != 2:\n",
    "        print(\"Input arguments number is wrong!\")\n",
    "        sys.exit(1)\n",
    "    main()"
   ],
   "outputs": [
    {
     "output_type": "display_data",
     "data": {
      "image/png": "[encoded data removed]",
      "text/plain": [
       "<Figure size 800x600 with 1 Axes>"
      ]
     },
     "metadata": {}
    },
    {
     "output_type": "display_data",
     "data": {
      "image/png": "[encoded data removed]",
      "text/plain": [
       "<Figure size 640x480 with 1 Axes>"
      ]
     },
     "metadata": {}
    }
   ],
   "metadata": {}
  }
 ],
 "nbformat": 4,
 "nbformat_minor": 2,
 "metadata": {
  "language_info": {
   "codemirror_mode": {
    "name": "ipython",
    "version": 3
   },
   "file_extension": ".py",
   "mimetype": "text/x-python",
   "name": "python",
   "nbconvert_exporter": "python",
   "pygments_lexer": "ipython3",
   "version": 3
  }
 }
}